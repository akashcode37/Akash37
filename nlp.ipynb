{
  "nbformat": 4,
  "nbformat_minor": 0,
  "metadata": {
    "colab": {
      "name": "nlp.ipynb",
      "version": "0.3.2",
      "provenance": [],
      "include_colab_link": true
    },
    "kernelspec": {
      "name": "python3",
      "display_name": "Python 3"
    }
  },
  "cells": [
    {
      "cell_type": "markdown",
      "metadata": {
        "id": "view-in-github",
        "colab_type": "text"
      },
      "source": [
        "<a href=\"https://colab.research.google.com/github/akashcode37/Akash37/blob/master/nlp.ipynb\" target=\"_parent\"><img src=\"https://colab.research.google.com/assets/colab-badge.svg\" alt=\"Open In Colab\"/></a>"
      ]
    },
    {
      "cell_type": "code",
      "metadata": {
        "id": "k26aZUqVEDPy",
        "colab_type": "code",
        "colab": {}
      },
      "source": [
        "import nltk\n",
        "#nltk.download('all')"
      ],
      "execution_count": 0,
      "outputs": []
    },
    {
      "cell_type": "code",
      "metadata": {
        "id": "weluRESkEJan",
        "colab_type": "code",
        "colab": {
          "base_uri": "https://localhost:8080/",
          "height": 34
        },
        "outputId": "89373206-fb85-48b8-af67-264b73896b8e"
      },
      "source": [
        "from nltk.corpus import stopwords\n",
        "stopw=[i for i in stopwords.words('english')]\n",
        "stopw[:10]"
      ],
      "execution_count": 3,
      "outputs": [
        {
          "output_type": "execute_result",
          "data": {
            "text/plain": [
              "['i', 'me', 'my', 'myself', 'we', 'our', 'ours', 'ourselves', 'you', \"you're\"]"
            ]
          },
          "metadata": {
            "tags": []
          },
          "execution_count": 3
        }
      ]
    },
    {
      "cell_type": "code",
      "metadata": {
        "id": "4XhqRD2xElCi",
        "colab_type": "code",
        "colab": {}
      },
      "source": [
        "from nltk.tokenize import sent_tokenize, word_tokenize\n",
        "from nltk.stem import WordNetLemmatizer\n",
        "from nltk.stem import PorterStemmer #for stemming\n"
      ],
      "execution_count": 0,
      "outputs": []
    },
    {
      "cell_type": "code",
      "metadata": {
        "id": "U1vEaRtdE4lC",
        "colab_type": "code",
        "colab": {}
      },
      "source": [
        "data= 'i am what i am please leave me alone i am not free go from here right now'\n",
        "wtokez=word_tokenize(data)"
      ],
      "execution_count": 0,
      "outputs": []
    },
    {
      "cell_type": "code",
      "metadata": {
        "id": "o5uNVd1EFfro",
        "colab_type": "code",
        "colab": {}
      },
      "source": [
        "removesw=[word for word in wtokez if word not in stopw]"
      ],
      "execution_count": 0,
      "outputs": []
    },
    {
      "cell_type": "code",
      "metadata": {
        "id": "HEPS_L7sFuL8",
        "colab_type": "code",
        "colab": {
          "base_uri": "https://localhost:8080/",
          "height": 34
        },
        "outputId": "b0ff0028-dbae-4f93-b28c-4711489c007a"
      },
      "source": [
        "removesw"
      ],
      "execution_count": 7,
      "outputs": [
        {
          "output_type": "execute_result",
          "data": {
            "text/plain": [
              "['please', 'leave', 'alone', 'free', 'go', 'right']"
            ]
          },
          "metadata": {
            "tags": []
          },
          "execution_count": 7
        }
      ]
    },
    {
      "cell_type": "code",
      "metadata": {
        "id": "cO_eoW4WFwG4",
        "colab_type": "code",
        "colab": {
          "base_uri": "https://localhost:8080/",
          "height": 118
        },
        "outputId": "1d1ae846-ac71-4ed5-eed4-fbe8fd414194"
      },
      "source": [
        "#stemming\n",
        "ps=PorterStemmer()\n",
        "for i in removesw:\n",
        "  print('stemming of word is', ps.stem(i))"
      ],
      "execution_count": 8,
      "outputs": [
        {
          "output_type": "stream",
          "text": [
            "stemming of word is pleas\n",
            "stemming of word is leav\n",
            "stemming of word is alon\n",
            "stemming of word is free\n",
            "stemming of word is go\n",
            "stemming of word is right\n"
          ],
          "name": "stdout"
        }
      ]
    },
    {
      "cell_type": "code",
      "metadata": {
        "id": "CEchgMNJGJuP",
        "colab_type": "code",
        "colab": {
          "base_uri": "https://localhost:8080/",
          "height": 118
        },
        "outputId": "83eb5939-91d0-4d76-d9ba-d44da1bf3b2f"
      },
      "source": [
        "#lemmatization\n",
        "len=WordNetLemmatizer()\n",
        "for i in removesw:\n",
        "  print('lemma of word is',len.lemmatize(i))"
      ],
      "execution_count": 11,
      "outputs": [
        {
          "output_type": "stream",
          "text": [
            "lemma of word is please\n",
            "lemma of word is leave\n",
            "lemma of word is alone\n",
            "lemma of word is free\n",
            "lemma of word is go\n",
            "lemma of word is right\n"
          ],
          "name": "stdout"
        }
      ]
    },
    {
      "cell_type": "code",
      "metadata": {
        "id": "GAiPtFuAHTGH",
        "colab_type": "code",
        "colab": {}
      },
      "source": [
        ""
      ],
      "execution_count": 0,
      "outputs": []
    }
  ]
}