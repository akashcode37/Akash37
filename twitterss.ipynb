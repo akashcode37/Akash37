{
  "nbformat": 4,
  "nbformat_minor": 0,
  "metadata": {
    "colab": {
      "name": "twitterss.ipynb",
      "version": "0.3.2",
      "provenance": [],
      "include_colab_link": true
    },
    "kernelspec": {
      "name": "python3",
      "display_name": "Python 3"
    }
  },
  "cells": [
    {
      "cell_type": "markdown",
      "metadata": {
        "id": "view-in-github",
        "colab_type": "text"
      },
      "source": [
        "<a href=\"https://colab.research.google.com/github/akashcode37/Akash37/blob/master/twitterss.ipynb\" target=\"_parent\"><img src=\"https://colab.research.google.com/assets/colab-badge.svg\" alt=\"Open In Colab\"/></a>"
      ]
    },
    {
      "cell_type": "code",
      "metadata": {
        "id": "HICcJbtpMs0u",
        "colab_type": "code",
        "colab": {}
      },
      "source": [
        "import tweepy\n",
        "import time\n",
        "import matplotlib.pyplot as plt"
      ],
      "execution_count": 0,
      "outputs": []
    },
    {
      "cell_type": "code",
      "metadata": {
        "id": "gLeeNFhINgCY",
        "colab_type": "code",
        "colab": {}
      },
      "source": [
        "from tweepy.streaming import StreamListener\n",
        "from textblob import TextBlob\n",
        "\n",
        "\n",
        "#Variables that contains the user credentials to access Twitter API \n",
        "access_token = \"\"\n",
        "access_token_secret = \"\"\n",
        "consumer_key = \"7\"\n",
        "consumer_secret = \"\"\n"
      ],
      "execution_count": 0,
      "outputs": []
    },
    {
      "cell_type": "code",
      "metadata": {
        "id": "9HF0EOquOzNR",
        "colab_type": "code",
        "colab": {}
      },
      "source": [
        "#dir(tweepy)"
      ],
      "execution_count": 0,
      "outputs": []
    },
    {
      "cell_type": "code",
      "metadata": {
        "id": "Abym7X9DO1fS",
        "colab_type": "code",
        "colab": {}
      },
      "source": [
        "auth=tweepy.OAuthHandler(consumer_key,consumer_secret)\n",
        "#now using this auth with acess token and secret\n",
        "auth.set_access_token(access_token,access_token_secret)"
      ],
      "execution_count": 0,
      "outputs": []
    },
    {
      "cell_type": "code",
      "metadata": {
        "id": "z-KJ3QtLP4HB",
        "colab_type": "code",
        "colab": {}
      },
      "source": [
        "#now you can connect API\n",
        "api_connect=tweepy.API(auth)"
      ],
      "execution_count": 0,
      "outputs": []
    },
    {
      "cell_type": "code",
      "metadata": {
        "id": "rC8g107BQQ-9",
        "colab_type": "code",
        "colab": {
          "base_uri": "https://localhost:8080/",
          "height": 2879
        },
        "outputId": "df231217-b5b9-4a7a-f4bd-784fed37233e"
      },
      "source": [
        "#api is connected and you can search the topic\n",
        "tweets=api_connect.search('virat',count=200)\n",
        "#print in text form only\n",
        "pos=0\n",
        "neg=0\n",
        "neu=0\n",
        "for tweet in tweets:\n",
        "  analysis=TextBlob(tweet.text)\n",
        "  \n",
        "  print(analysis.sentiment)\n",
        "  if analysis.sentiment.polarity > 0:\n",
        "    print (\"positive sentiment\")\n",
        "    pos=pos+1\n",
        "  elif analysis.sentiment.polarity == 0:\n",
        "    print(\"neutral\")\n",
        "    neu=neu+1\n",
        "  else:\n",
        "    print(\"negative\")\n",
        "    neg=neg+1\n",
        "print(pos,neg,neu)"
      ],
      "execution_count": 35,
      "outputs": [
        {
          "output_type": "stream",
          "text": [
            "Sentiment(polarity=0.5, subjectivity=1.0)\n",
            "positive sentiment\n",
            "Sentiment(polarity=0.0, subjectivity=0.0)\n",
            "neutral\n",
            "Sentiment(polarity=0.10000000000000002, subjectivity=0.3833333333333333)\n",
            "positive sentiment\n",
            "Sentiment(polarity=0.0, subjectivity=0.0)\n",
            "neutral\n",
            "Sentiment(polarity=0.10000000000000002, subjectivity=0.3833333333333333)\n",
            "positive sentiment\n",
            "Sentiment(polarity=0.10000000000000002, subjectivity=0.3833333333333333)\n",
            "positive sentiment\n",
            "Sentiment(polarity=-0.5, subjectivity=0.65)\n",
            "negative\n",
            "Sentiment(polarity=0.0, subjectivity=0.0)\n",
            "neutral\n",
            "Sentiment(polarity=0.5, subjectivity=0.35)\n",
            "positive sentiment\n",
            "Sentiment(polarity=0.55, subjectivity=0.35)\n",
            "positive sentiment\n",
            "Sentiment(polarity=0.5, subjectivity=1.0)\n",
            "positive sentiment\n",
            "Sentiment(polarity=0.85, subjectivity=1.0)\n",
            "positive sentiment\n",
            "Sentiment(polarity=0.0, subjectivity=0.0)\n",
            "neutral\n",
            "Sentiment(polarity=0.0, subjectivity=0.0)\n",
            "neutral\n",
            "Sentiment(polarity=0.0, subjectivity=0.0)\n",
            "neutral\n",
            "Sentiment(polarity=0.0, subjectivity=0.0)\n",
            "neutral\n",
            "Sentiment(polarity=0.5, subjectivity=1.0)\n",
            "positive sentiment\n",
            "Sentiment(polarity=-0.5, subjectivity=1.0)\n",
            "negative\n",
            "Sentiment(polarity=0.0, subjectivity=0.0)\n",
            "neutral\n",
            "Sentiment(polarity=0.0, subjectivity=0.0)\n",
            "neutral\n",
            "Sentiment(polarity=0.16, subjectivity=0.5399999999999999)\n",
            "positive sentiment\n",
            "Sentiment(polarity=0.0, subjectivity=0.0)\n",
            "neutral\n",
            "Sentiment(polarity=0.5, subjectivity=0.75)\n",
            "positive sentiment\n",
            "Sentiment(polarity=0.16, subjectivity=0.5399999999999999)\n",
            "positive sentiment\n",
            "Sentiment(polarity=0.10000000000000002, subjectivity=0.3833333333333333)\n",
            "positive sentiment\n",
            "Sentiment(polarity=0.0, subjectivity=0.0)\n",
            "neutral\n",
            "Sentiment(polarity=0.0, subjectivity=0.0)\n",
            "neutral\n",
            "Sentiment(polarity=0.0, subjectivity=0.0)\n",
            "neutral\n",
            "Sentiment(polarity=0.16, subjectivity=0.5399999999999999)\n",
            "positive sentiment\n",
            "Sentiment(polarity=0.0, subjectivity=0.0)\n",
            "neutral\n",
            "Sentiment(polarity=-0.15555555555555559, subjectivity=0.2888888888888889)\n",
            "negative\n",
            "Sentiment(polarity=0.0, subjectivity=0.0)\n",
            "neutral\n",
            "Sentiment(polarity=0.0, subjectivity=0.0)\n",
            "neutral\n",
            "Sentiment(polarity=0.0, subjectivity=0.0)\n",
            "neutral\n",
            "Sentiment(polarity=0.0, subjectivity=0.06666666666666667)\n",
            "neutral\n",
            "Sentiment(polarity=0.0, subjectivity=0.06666666666666667)\n",
            "neutral\n",
            "Sentiment(polarity=0.5, subjectivity=1.0)\n",
            "positive sentiment\n",
            "Sentiment(polarity=0.0, subjectivity=0.0)\n",
            "neutral\n",
            "Sentiment(polarity=0.5, subjectivity=1.0)\n",
            "positive sentiment\n",
            "Sentiment(polarity=0.18333333333333338, subjectivity=0.8)\n",
            "positive sentiment\n",
            "Sentiment(polarity=0.10000000000000002, subjectivity=0.3833333333333333)\n",
            "positive sentiment\n",
            "Sentiment(polarity=0.0, subjectivity=0.0)\n",
            "neutral\n",
            "Sentiment(polarity=0.0, subjectivity=0.0)\n",
            "neutral\n",
            "Sentiment(polarity=0.0, subjectivity=0.0)\n",
            "neutral\n",
            "Sentiment(polarity=0.0, subjectivity=0.0)\n",
            "neutral\n",
            "Sentiment(polarity=-0.5, subjectivity=1.0)\n",
            "negative\n",
            "Sentiment(polarity=0.5, subjectivity=1.0)\n",
            "positive sentiment\n",
            "Sentiment(polarity=0.0, subjectivity=0.0)\n",
            "neutral\n",
            "Sentiment(polarity=0.0, subjectivity=0.0)\n",
            "neutral\n",
            "Sentiment(polarity=1.0, subjectivity=0.3)\n",
            "positive sentiment\n",
            "Sentiment(polarity=0.0, subjectivity=0.0)\n",
            "neutral\n",
            "Sentiment(polarity=0.0, subjectivity=0.0)\n",
            "neutral\n",
            "Sentiment(polarity=0.0, subjectivity=0.0)\n",
            "neutral\n",
            "Sentiment(polarity=0.16, subjectivity=0.5399999999999999)\n",
            "positive sentiment\n",
            "Sentiment(polarity=0.5, subjectivity=0.75)\n",
            "positive sentiment\n",
            "Sentiment(polarity=0.16, subjectivity=0.5399999999999999)\n",
            "positive sentiment\n",
            "Sentiment(polarity=0.5, subjectivity=1.0)\n",
            "positive sentiment\n",
            "Sentiment(polarity=0.8, subjectivity=0.26)\n",
            "positive sentiment\n",
            "Sentiment(polarity=-0.15000000000000002, subjectivity=0.75)\n",
            "negative\n",
            "Sentiment(polarity=0.0, subjectivity=0.0)\n",
            "neutral\n",
            "Sentiment(polarity=0.10000000000000002, subjectivity=0.3833333333333333)\n",
            "positive sentiment\n",
            "Sentiment(polarity=0.0, subjectivity=0.0)\n",
            "neutral\n",
            "Sentiment(polarity=0.0, subjectivity=0.0)\n",
            "neutral\n",
            "Sentiment(polarity=0.0, subjectivity=0.0)\n",
            "neutral\n",
            "Sentiment(polarity=0.0, subjectivity=0.0)\n",
            "neutral\n",
            "Sentiment(polarity=0.0, subjectivity=0.0)\n",
            "neutral\n",
            "Sentiment(polarity=0.5, subjectivity=1.0)\n",
            "positive sentiment\n",
            "Sentiment(polarity=0.0, subjectivity=0.0)\n",
            "neutral\n",
            "Sentiment(polarity=0.25, subjectivity=0.4444444444444444)\n",
            "positive sentiment\n",
            "Sentiment(polarity=0.5, subjectivity=1.0)\n",
            "positive sentiment\n",
            "Sentiment(polarity=0.5, subjectivity=1.0)\n",
            "positive sentiment\n",
            "Sentiment(polarity=0.3125, subjectivity=0.25)\n",
            "positive sentiment\n",
            "Sentiment(polarity=0.0, subjectivity=0.0)\n",
            "neutral\n",
            "Sentiment(polarity=0.16, subjectivity=0.5399999999999999)\n",
            "positive sentiment\n",
            "Sentiment(polarity=0.0, subjectivity=0.0)\n",
            "neutral\n",
            "Sentiment(polarity=0.5, subjectivity=0.75)\n",
            "positive sentiment\n",
            "Sentiment(polarity=0.375, subjectivity=0.5)\n",
            "positive sentiment\n",
            "Sentiment(polarity=-0.0625, subjectivity=0.1875)\n",
            "negative\n",
            "Sentiment(polarity=0.5, subjectivity=1.0)\n",
            "positive sentiment\n",
            "Sentiment(polarity=0.0, subjectivity=0.0)\n",
            "neutral\n",
            "35 6 39\n"
          ],
          "name": "stdout"
        }
      ]
    },
    {
      "cell_type": "code",
      "metadata": {
        "id": "0JWcOyCtQp9a",
        "colab_type": "code",
        "colab": {
          "base_uri": "https://localhost:8080/",
          "height": 300
        },
        "outputId": "902a48c1-ef39-4e7b-9cb2-fc5d73030b01"
      },
      "source": [
        "plt.xlabel(\"sentiment\")\n",
        "plt.ylabel(\"count\")\n",
        "plt.bar([\"positive\",\"negvative\",\"neutral\"],[pos,neg,neu])\n",
        "plt.show"
      ],
      "execution_count": 36,
      "outputs": [
        {
          "output_type": "execute_result",
          "data": {
            "text/plain": [
              "<function matplotlib.pyplot.show>"
            ]
          },
          "metadata": {
            "tags": []
          },
          "execution_count": 36
        },
        {
          "output_type": "display_data",
          "data": {
            "image/png": "[encoded data removed]",
            "text/plain": [
              "<Figure size 432x288 with 1 Axes>"
            ]
          },
          "metadata": {
            "tags": []
          }
        }
      ]
    },
    {
      "cell_type": "code",
      "metadata": {
        "id": "VNZGbI_iQ1Hk",
        "colab_type": "code",
        "colab": {}
      },
      "source": [
        ""
      ],
      "execution_count": 0,
      "outputs": []
    }
  ]
}
