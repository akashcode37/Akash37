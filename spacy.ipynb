{
  "nbformat": 4,
  "nbformat_minor": 0,
  "metadata": {
    "colab": {
      "name": "spacy.ipynb",
      "version": "0.3.2",
      "provenance": [],
      "include_colab_link": true
    },
    "kernelspec": {
      "name": "python3",
      "display_name": "Python 3"
    }
  },
  "cells": [
    {
      "cell_type": "markdown",
      "metadata": {
        "id": "view-in-github",
        "colab_type": "text"
      },
      "source": [
        "<a href=\"https://colab.research.google.com/github/akashcode37/Akash37/blob/master/spacy.ipynb\" target=\"_parent\"><img src=\"https://colab.research.google.com/assets/colab-badge.svg\" alt=\"Open In Colab\"/></a>"
      ]
    },
    {
      "cell_type": "code",
      "metadata": {
        "id": "G3phHho8IphG",
        "colab_type": "code",
        "colab": {}
      },
      "source": [
        "import spacy\n",
        "import time"
      ],
      "execution_count": 0,
      "outputs": []
    },
    {
      "cell_type": "code",
      "metadata": {
        "id": "4HcN74X6ItCD",
        "colab_type": "code",
        "colab": {}
      },
      "source": [
        "nlp=spacy.load('en')"
      ],
      "execution_count": 0,
      "outputs": []
    },
    {
      "cell_type": "code",
      "metadata": {
        "id": "3IVkyYyIIyaH",
        "colab_type": "code",
        "colab": {}
      },
      "source": [
        "data='cool is fool but you are crazy because i am super'\n"
      ],
      "execution_count": 0,
      "outputs": []
    },
    {
      "cell_type": "code",
      "metadata": {
        "id": "dtNPXQ9AI8Ar",
        "colab_type": "code",
        "colab": {}
      },
      "source": [
        "#aplying NLP\n",
        "p_data=nlp(data)"
      ],
      "execution_count": 0,
      "outputs": []
    },
    {
      "cell_type": "code",
      "metadata": {
        "id": "L8xVAxcFJHIw",
        "colab_type": "code",
        "colab": {
          "base_uri": "https://localhost:8080/",
          "height": 202
        },
        "outputId": "5dc854b0-8dd1-4386-c320-c80d8ffbfcd3"
      },
      "source": [
        "for i in p_data:\n",
        "  print(i)"
      ],
      "execution_count": 14,
      "outputs": [
        {
          "output_type": "stream",
          "text": [
            "cool\n",
            "is\n",
            "fool\n",
            "but\n",
            "you\n",
            "are\n",
            "crazy\n",
            "because\n",
            "i\n",
            "am\n",
            "super\n"
          ],
          "name": "stdout"
        }
      ]
    },
    {
      "cell_type": "code",
      "metadata": {
        "id": "FbDw91JNJOhs",
        "colab_type": "code",
        "colab": {
          "base_uri": "https://localhost:8080/",
          "height": 386
        },
        "outputId": "d930deae-439d-402f-8a1e-0c2a84a3b1f7"
      },
      "source": [
        "#checking lemma and POS\n",
        "for i in p_data:\n",
        "  print(i,\"-----Lemm--->>>>\",i.lemma_)\n",
        "  time.sleep(2)\n",
        "  print (\"POS of word is \", i.pos)"
      ],
      "execution_count": 15,
      "outputs": [
        {
          "output_type": "stream",
          "text": [
            "cool -----Lemm--->>>> cool\n",
            "POS of word is  84\n",
            "is -----Lemm--->>>> be\n",
            "POS of word is  100\n",
            "fool -----Lemm--->>>> fool\n",
            "POS of word is  92\n",
            "but -----Lemm--->>>> but\n",
            "POS of word is  89\n",
            "you -----Lemm--->>>> -PRON-\n",
            "POS of word is  95\n",
            "are -----Lemm--->>>> be\n",
            "POS of word is  100\n",
            "crazy -----Lemm--->>>> crazy\n",
            "POS of word is  84\n",
            "because -----Lemm--->>>> because\n",
            "POS of word is  85\n",
            "i -----Lemm--->>>> i\n",
            "POS of word is  95\n",
            "am -----Lemm--->>>> be\n",
            "POS of word is  100\n",
            "super -----Lemm--->>>> super\n",
            "POS of word is  84\n"
          ],
          "name": "stdout"
        }
      ]
    },
    {
      "cell_type": "code",
      "metadata": {
        "id": "BhJQREq8KSW9",
        "colab_type": "code",
        "colab": {}
      },
      "source": [
        "verb=[i for i in p_data]"
      ],
      "execution_count": 0,
      "outputs": []
    },
    {
      "cell_type": "code",
      "metadata": {
        "id": "meUJYPmmLqll",
        "colab_type": "code",
        "colab": {}
      },
      "source": [
        ""
      ],
      "execution_count": 0,
      "outputs": []
    }
  ]
}